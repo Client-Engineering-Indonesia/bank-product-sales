{
 "cells": [
  {
   "cell_type": "code",
   "execution_count": 1,
   "metadata": {},
   "outputs": [],
   "source": [
    "import sys\n",
    "import os\n",
    "\n",
    "project_root = os.path.abspath(os.path.join(os.path.dirname(\"__file__\"), '..'))\n",
    "sys.path.insert(0, project_root)"
   ]
  },
  {
   "cell_type": "code",
   "execution_count": 2,
   "metadata": {},
   "outputs": [],
   "source": [
    "context_personal = \"\"\"Calon klienku bernama Galih Aryowibowo, dia bekerja di bidang informasi teknologi, berumur 32 tahun, terakhir kali menggunakan kartu kredit untuk membeli perlengkapan bermain golf. Pendapatannya kira-kira diangka 18 juta\"\"\"\n",
    "\n",
    "# context_personal = \"\"\"Nama: Galih Aryowibowo, Pekerjaan: IT, Usia: 32, Pendapatan: 10 juta - 100 juta, Ketertarikan: Golf\"\"\"\n",
    "\n",
    "context_sme = \"\"\"Maya Wiraswari adalah seorang wanita berusia 35 tahun yang memiliki semangat wirausaha yang tinggi. Ia lahir dan besar di kota kecil yang penuh semangat kewirausahaan. Sejak muda, Maya memiliki minat dalam menginap diberbagai hotel di seluruh dunia. Revenunya berkisar 500jt - 700jt pertahun\"\"\"\n",
    "\n",
    "# context_sme = \"\"\"Nama: Maya Wiraswari, Pekerjaan: wiraswasta, Usia: 35, Pendapatan: 100 juta - 1 Milliar, Ketertarikan: menginap di Hotel\"\"\""
   ]
  },
  {
   "cell_type": "markdown",
   "metadata": {},
   "source": [
    "### Show information about the products"
   ]
  },
  {
   "cell_type": "code",
   "execution_count": 3,
   "metadata": {},
   "outputs": [
    {
     "name": "stdout",
     "output_type": "stream",
     "text": [
      "Score WD 1: 0.36988407\n",
      "Score WD 2: 0.26747906\n",
      "Score WD 3: 0.24924573\n",
      "context_text:\n",
      "Persyaratan\n",
      "Kartu Kredit BNI Infinite berlaku untuk Nasabah Emerald BNI. Jika anda belum menjadi Nasabah BNI Emerald silakan klik Apply Now\n",
      "Apabila Anda adalah Nasabah BNI Emerald, hubungi BNI Emerald Call 1500098 atau Relationship Manager Anda untuk apply Kartu Kredit BNI Visa Infinite”. Jenis Kartu :\n",
      "Kartu Debit Only; atau\n",
      "Kartu Debit Combo Uang Elektronik BNI (TapCash).\n",
      "Ketentuan Biaya BNI Taplus Anak :\n",
      "Setoran Awal Minimal\tRp 100.000,-\n",
      "Biaya Kartu Perdana dan Ganti Kartu karena Hilang/Rusak\tKartu Debit Only : Rp 15.000,-.\n",
      "\tKartu Debit Combo TapCash : Rp 35.000,-. Untuk Nasabah Emerald yang melakukan apply Kartu Kredit BNI Infinite per Desember 2023 akan diberikan design kartu lama namun akan tetap dikirimkan design baru estimasi paling cepat pada Q1 tahun 2024.\n",
      "Nasabah baru dengan yang menerima design kartu lama tetap dapat menikmati program Welcome Package sesuai dengan ketentuan berlaku.\n",
      "\n",
      "Persyaratan\n",
      "Kartu Kredit BNI Infinite berlaku untuk Nasabah Emerald BNI.\n",
      "\n",
      "answer:\n",
      "1. Kartu Debit BNI Emerald adalah produk kredit yang dapat digunakan untuk membayar tagihan dan transfer uang.\n",
      " 2. Kartu Debit BNI Emerald memiliki design kartu lama namun akan tetap dikirimkan design baru estimasi paling cepat pada Q1 tahun 2024.\n",
      " 3. Kartu Debit BNI Emerald dapat digunakan untuk membayar tagihan dan transfer uang melalui BNI Taplus.\n",
      " 4. Kartu Debit BNI Emerald memiliki biaya setoran awal minimal Rp 100.000,- dan biaya kartu perdana dan ganti kartu karena hilang/rusak Rp 15.000,- atau Rp 35.000,- untuk Kartu Debit Combo TapCash.\n",
      " 5. Kartu Debit BNI Emerald dapat dipesan melalui BNI Emerald Call 1500098 atau melalui Relationship Manager.\n",
      " 6. Kartu Debit BNI Emerald memiliki program Welcome Package untuk nasabah baru yang menerima design kartu lama.\n",
      " 7. Kartu Debit BNI Emerald dapat digunakan untuk membayar tagihan dan transfer uang melalui BNI Taplus dan juga dapat digunakan untuk membeli produk lainnya melalui BNI Online.\n"
     ]
    }
   ],
   "source": [
    "### Ambil title json\n",
    "user_question=\"Kartu Debit BNI Emerald\"\n",
    "\n",
    "from app.helpers.wxwd_function import WatsonQA\n",
    "watson_qa_instance = WatsonQA()\n",
    "result = watson_qa_instance.watsonxai_product_information(user_question)\n",
    "\n",
    "print(\"answer:\")\n",
    "print(result['output'])"
   ]
  },
  {
   "cell_type": "markdown",
   "metadata": {},
   "source": [
    "### Show how many cards available based on BNI promo offer"
   ]
  },
  {
   "cell_type": "code",
   "execution_count": null,
   "metadata": {},
   "outputs": [
    {
     "name": "stdout",
     "output_type": "stream",
     "text": [
      "Score WD 1: 0.6164167\n",
      "Score WD 2: 0.6164167\n",
      "Score WD 3: 0.5832736\n",
      "context_text:\n",
      "Potongan Rp 500 ribu dengan minimum transaksi Rp 2,5 juta di Animale, Carbon, Iron Plate dan Wabisabi.\n",
      "Promo berlaku setiap Senin–Jumat hingga 30 Juni 2024.\n",
      "Promo berlaku dengan Kartu Kredit BNI JCB Ultimate.\n",
      "Program tidak berlaku kelipatan.\n",
      "Program hanya berlaku untuk 1x/pemegang kartu/hari. Potongan Rp 500 ribu dengan minimum transaksi Rp 2,5 juta di Animale, Carbon, Iron Plate dan Wabisabi.\n",
      "Promo berlaku setiap Senin–Jumat hingga 30 Juni 2024.\n",
      "Promo berlaku dengan Kartu Kredit BNI JCB Ultimate.\n",
      "Program tidak berlaku kelipatan.\n",
      "Program hanya berlaku untuk 1x/pemegang kartu/hari. Promo berlaku setiap Senin–Jumat hingga 30 Juni 2024.\n",
      "Promo berlaku dengan Kartu Kredit BNI JCB Ultimate.\n",
      "Program tidak berlaku kelipatan.\n",
      "Program hanya berlaku untuk 1x/pemegang kartu/hari.\n",
      "Program tidak dapat digabungkan dengan promosi lainnya.\n",
      "\n",
      "answer:\n",
      "Jawaban yang diharapkan adalah sebagai berikut:\n",
      " {\n",
      " \"alt\": \"Kartu Debit BNI Emerald\",\n",
      " \"url\": \"https://www.bni.co.id/debit-bni-emerald\",\n",
      " \"title\": \"Kartu Debit BNI Emerald\",\n",
      " \"description\": \"Kartu Debit BNI Emerald adalah kartu debit yang dapat Anda gunakan untuk membeli produk-produk di Garasi Golf dengan diskon 30% hingga Rp300.000. Kartu ini juga dapat digunakan untuk membeli produk-produk lainnya di seluruh Indonesia.\"\n",
      " }\n",
      " \n",
      " Jawaban yang diharapkan harus sesuai dengan kriteria yang diberikan dalam Konteks_previous dan Konteks_wd. Jawaban yang tidak sesuai dengan kriteria akan diabaikan.\n"
     ]
    }
   ],
   "source": [
    "### Ambil deskripsi json\n",
    "user_question=\"Diskon 30% untuk driving range hingga Rp300.000 berlaku untuk Kartu Debit BNI Emerald. Jadi, manfaatkanlah kesempatan ini untuk meraih beragam keuntungan saat berbelanja di Garasi Golf dengan Kartu Kredit BNI Anda.\"\n",
    "\n",
    "from app.helpers.wxwd_function import WatsonQA\n",
    "watson_qa_instance = WatsonQA()\n",
    "result = watson_qa_instance.watsonxai_product(user_question, context_personal)\n",
    "\n",
    "print(\"answer:\")\n",
    "print(result['output'])"
   ]
  },
  {
   "cell_type": "markdown",
   "metadata": {},
   "source": [
    "### Show promo recomendation based on BNI products offer"
   ]
  },
  {
   "cell_type": "code",
   "execution_count": null,
   "metadata": {},
   "outputs": [
    {
     "name": "stdout",
     "output_type": "stream",
     "text": [
      "Score WD 1: 0.33280757\n",
      "Score WD 2: 0.3089726\n",
      "Score WD 3: 0.29371706\n",
      "context_text:\n",
      "Promo New Kuta Golf\n",
      "Promo dari New Kuta Golf yang terletak di Badung. Dapatkan diskon sebesar 10% dengan menggunakan Kartu Kredit BNI. Promo ini berlaku hingga 31 Desember 2024 dengan syarat dan ketentuan tertentu. Diskon 10% akan diberikan dengan maksimum potongan sebesar Rp150.000, dan berlaku untuk setiap transaksi minimal Rp1.000.000 per kartu per hari. Lokasi Zutto di Jl. Pulau Untung Pantai Indak Kapuk, Jakarta.\n",
      "\n",
      "Promo Kartu Kredit BNI\n",
      "Promo Kartu Kredit BNI untuk bermain golf berlaku hingga 31 Januari 2024\n",
      "Syarat dan ketentuan:\n",
      "1. Sedayu Indo Golf\n",
      "Promo Diskon Hingga 30% Driving Range:\n",
      "Diskon 30% untuk driving range hingga Rp300.000 berlaku untuk Kartu Debit BNI Emerald. Jadi, manfaatkanlah kesempatan ini untuk meraih beragam keuntungan saat berbelanja di Garasi Golf dengan Kartu Kredit BNI Anda. Promo ini berlaku hingga 31 Desember 2024.\n",
      "Promo New Kuta Golf\n",
      "Promo dari New Kuta Golf yang terletak di Badung. Dapatkan diskon sebesar 10% dengan menggunakan Kartu Kredit BNI.\n",
      "\n",
      "answer:\n",
      "[\n",
      " {'alt': 'Promo New Kuta Golf', 'url': 'https://www.bni.co.id/promo/new-kuta-golf', 'title': 'Promo New Kuta Golf', 'description': 'Dapatkan diskon sebesar 10% dengan menggunakan Kartu Kredit BNI. Promo ini berlaku hingga 31 Desember 2024 dengan syarat dan ketentuan tertentu.'},\n",
      " {'alt': 'Diskon Hingga 30% Driving Range', 'url': 'https://www.bni.co.id/promo/sedayu-indo-golf', 'title': 'Diskon Hingga 30% Driving Range', 'description': 'Diskon 30% untuk driving range hingga Rp300.000 berlaku untuk Kartu Debit BNI Emerald. Jadi, manfaatkanlah kesempatan ini untuk meraih beragam keuntungan saat berbelanja di Garasi Golf dengan Kartu Kredit BNI Anda.'},\n",
      " {'alt': 'Promo Kartu Kredit BNI', 'url': 'https://www.bni.co.id/promo/kartu-kredit-bni', 'title': 'Promo Kartu Kredit BNI', 'description': 'Promo Kartu Kredit BNI untuk bermain golf berlaku hingga 31 Januari 2024. Syarat dan ketentuan: Sedayu Indo Golf, Promo Diskon Hingga 30% Driving Range, dan Promo New Kuta Golf.'}\n",
      " ]\n"
     ]
    }
   ],
   "source": [
    "user_question=\"Berdasarkan deskripsi yang kamu berikan ini 3 top produk yang mungkin cocok untuk customer kamu?\"\n",
    "from app.helpers.wxwd_function import WatsonQA\n",
    "watson_qa_instance = WatsonQA()\n",
    "result = watson_qa_instance.watsonxai_promo(user_question, context_personal)\n",
    "\n",
    "print(\"answer:\")\n",
    "print(result['output'])"
   ]
  },
  {
   "cell_type": "code",
   "execution_count": null,
   "metadata": {},
   "outputs": [
    {
     "name": "stdout",
     "output_type": "stream",
     "text": [
      "Score WD 1: 0.31166428\n",
      "Score WD 2: 0.2700691\n",
      "Score WD 3: 0.2293299\n",
      "context_text:\n",
      "Promo ini berlaku hingga 31 Maret 2024 dan dapat dinikmati untuk seluruh jenis Kartu Debit BNI. Dapatkan potongan 10% dari harga kamar promo yang berlaku hingga batas waktu tersebut di Prime Plaza Hotels & Resorts. Namun, perlu diingat bahwa promo ini memiliki beberapa syarat dan ketentuan, termasuk blackout date dan kemungkinan biaya tambahan pada periode tertentu. Promo Kartu Debit BNI\n",
      "Prime Plaza Hotels & Resorts menawarkan diskon hingga 10% untuk pemegang Kartu Debit BNI. Promo ini berlaku hingga 31 Maret 2024 dan dapat dinikmati untuk seluruh jenis Kartu Debit BNI. Dapatkan potongan 10% dari harga kamar promo yang berlaku hingga batas waktu tersebut di Prime Plaza Hotels & Resorts. Selain itu, promo tidak berlaku untuk transaksi kelipatan atau yang dibagi-bagi. Penawaran ini berlaku untuk semua jenis kartu kredit BNI, kecuali Kartu Kredit Silver dan Corporate. Jangan lewatkan kesempatan istimewa ini untuk menikmati pengalaman menginap yang lebih terjangkau di Wyndham Hotel Surabaya.\n",
      "\n",
      "answer:\n",
      "[\n",
      " {'alt': 'Promo Kartu Debit BNI 10%', 'url': 'https://www.bni.co.id/promo-kartu-debit-bni-10', 'title': 'Promo Kartu Debit BNI 10%', 'description': 'Dapatkan potongan 10% dari harga kamar promo yang berlaku hingga batas waktu tersebut di Prime Plaza Hotels & Resorts.'},\n",
      " {'alt': 'Diskon 15% untuk Pemegang Kartu Debit BNI', 'url': 'https://www.bni.co.id/diskon-15-pemegang-kartu-debit-bni', 'title': 'Diskon 15% untuk Pemegang Kartu Debit BNI', 'description': 'Dapatkan diskon 15% untuk pemegang Kartu Debit BNI di Prime Plaza Hotels & Resorts.'},\n",
      " {'alt': 'Promo Kartu Debit BNI untuk Pemegang Kartu Kredit', 'url': 'https://www.bni.co.id/promo-kartu-debit-bni-untuk-pemegang-kartu-kredit', 'title': 'Promo Kartu Debit BNI untuk Pemegang Kartu Kredit', 'description': 'Dapatkan potongan 10% dari harga kamar promo yang berlaku hingga batas waktu tersebut di Prime Plaza Hotels & Resorts untuk pemegang Kartu Kredit BNI.'}\n",
      " ]\n"
     ]
    }
   ],
   "source": [
    "user_question=\"Berdasarkan deskripsi yang kamu berikan ini 3 top produk yang mungkin cocok untuk customer kamu?\"\n",
    "from app.helpers.wxwd_function import WatsonQA\n",
    "watson_qa_instance = WatsonQA()\n",
    "result = watson_qa_instance.watsonxai_promo(user_question, context_sme)\n",
    "\n",
    "print(\"answer:\")\n",
    "print(result['output'])"
   ]
  },
  {
   "cell_type": "code",
   "execution_count": null,
   "metadata": {},
   "outputs": [],
   "source": []
  }
 ],
 "metadata": {
  "kernelspec": {
   "display_name": "research3",
   "language": "python",
   "name": "python3"
  },
  "language_info": {
   "codemirror_mode": {
    "name": "ipython",
    "version": 3
   },
   "file_extension": ".py",
   "mimetype": "text/x-python",
   "name": "python",
   "nbconvert_exporter": "python",
   "pygments_lexer": "ipython3",
   "version": "3.11.5"
  }
 },
 "nbformat": 4,
 "nbformat_minor": 2
}
